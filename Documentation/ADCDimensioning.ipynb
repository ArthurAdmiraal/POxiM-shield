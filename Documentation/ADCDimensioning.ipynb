{
 "cells": [
  {
   "cell_type": "markdown",
   "metadata": {},
   "source": [
    "# POxiM transmissivity estimation chain dimensioning"
   ]
  },
  {
   "cell_type": "markdown",
   "metadata": {},
   "source": [
    "## Introduction\n",
    "### Background\n",
    "In response to shortages during the Covid-19 pandemic, TU Delft is developing the POxiM transmissive pulse oximeter. A pulse oximeter is a medical instrument which doctors use to monitor the heart rate and blood oxygen saturation of patients during critical stages of and revalidation from Covid-19. POxiM is intended to be fully qualified for use leading up to and after the intensive care, thereby freeing existing more stringently qualified pulse oximeters to be used on the intensive care. The main design goal is supplyability: 1000s of units should be locally manufacturable even during severe lockdowns. Simplicity and supply chain diversity are important secondary goals in service of this main goal.\n",
    "\n",
    "POxiM is based on the tranmissive pulse oximetry principle. Transmissive pulse oximeters can be divided in three main subsystems:\n",
    " - Estimating the transmissivity of red (660nm) and infared (940nm) light through a finger.\n",
    " - Using this data to estimate the pulse rate and oxygen concentration of the patient.\n",
    " - Presenting this data to the patient and/or caretaker.\n",
    "The goal of this document is to explain how POxiM implements the transmissivity estimation and to document the derivation of each element's value.\n",
    "\n",
    "To this end, we first present a brief high-level overview of the signal chain for context. From there, we will go through each of the stages of the signal chain to examine their intricacies and select their parameter values. We conclude with a performance analysis of the system.\n",
    "\n",
    "### Overview\n",
    "![POxiM transmissivity estimation chain overview](Figures/POxiM_HighLevelSignalChain_Coloured.png)\n",
    "_Additions: brightness scaling after ADC_\n",
    "\n",
    "The figure above gives an overview of the signal chain used to estimate the transmissivity of the finger for red (660nm) and infrared (940nm) light.\n",
    "\n",
    "#### The optical path\n",
    "The signal chain revolves around the optical path through the finger, as the signals of interest are the transmissivity sampled at 660nm and 940nm. The optical path consists of infrared and red LEDs, the finger itself, and the photodiode. Inside the optical path, the LED light is multiplied (mixed) with the transmissivity of the corresponding wavelength. The photodiode receives the sum of the light at all wavelengths.\n",
    "\n",
    "#### On frequency division\n",
    "This presents an immediate problem, since there is only a single output from which two signals of interest must be inferred. Most pulse oximeters solve this problem by dividing the channel in time, where the two wavelengths are sampled in an interleaved fashion by switching on only one of the LEDs at a time. However, this requires either a relatively high bandwidth ADC or time-variant filtering within a low bandwidth ADC, which are hard to source, complex, and costly.\n",
    "\n",
    "Hence, in order to simplify the hardware, we chose to implement only a single ADC channel and use frequency division to share the channel. In frequency division, both LEDs are on simultaneously, but they are modulated with different frequencies. This shifts the signals of interest to two different places in the frequency domain. Software mixing and filtering can then be used to recover the signals of interest. Though these operations are much more complex than those required for time division, they do not require additional hardware and we will show that they can be implemented in even the simplest of microcontrollers. Hence, using frequency division simplifies the design from a hardware standpoint, and maximises supply chain diversity for the remaining components.\n",
    "\n",
    "In the remainder of this overview, we will explain how POxiM implements frequency division for the optical channel.\n",
    "\n",
    "#### LED Drivers\n",
    "The \n"
   ]
  },
  {
   "cell_type": "code",
   "execution_count": null,
   "metadata": {},
   "outputs": [],
   "source": []
  }
 ],
 "metadata": {
  "kernelspec": {
   "display_name": "Python 3",
   "language": "python",
   "name": "python3"
  },
  "language_info": {
   "codemirror_mode": {
    "name": "ipython",
    "version": 3
   },
   "file_extension": ".py",
   "mimetype": "text/x-python",
   "name": "python",
   "nbconvert_exporter": "python",
   "pygments_lexer": "ipython3",
   "version": "3.7.4"
  }
 },
 "nbformat": 4,
 "nbformat_minor": 2
}
